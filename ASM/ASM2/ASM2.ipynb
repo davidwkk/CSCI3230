{
 "cells": [
  {
   "cell_type": "code",
   "execution_count": null,
   "id": "f9fcd530",
   "metadata": {},
   "outputs": [],
   "source": [
    "# CSCI3230 / ESTR3108 2025-26 First Term Assignment 2\n",
    "# I declare that the assignment here submitted is original except for source\n",
    "# material explicitly acknowledged, and that the same or closely related material\n",
    "# has not been previously submitted for another course. I also acknowledge that I\n",
    "# am aware of University policy and regulations on honesty in academic work, and\n",
    "# of the disciplinary guidelines and procedures applicable to breaches of such\n",
    "# policy and regulations, as contained in the following websites.\n",
    "# University Guideline on Academic Honesty:\n",
    "# http://www.cuhk.edu.hk/policy/academichonesty/\n",
    "# Faculty of Engineering Guidelines to Academic Honesty:`\n",
    "# http://www.erg.cuhk.edu.hk/erg-intra/upload/documents/ENGG_Discipline.pdf\n",
    "# Student Name: Wong Kwok Kam\n",
    "# Student ID : 1155192018"
   ]
  },
  {
   "cell_type": "code",
   "execution_count": null,
   "id": "053d98d7",
   "metadata": {},
   "outputs": [],
   "source": []
  },
  {
   "cell_type": "code",
   "execution_count": null,
   "id": "b0015fce",
   "metadata": {},
   "outputs": [],
   "source": []
  },
  {
   "cell_type": "code",
   "execution_count": null,
   "id": "c00ebaee",
   "metadata": {},
   "outputs": [],
   "source": []
  },
  {
   "cell_type": "code",
   "execution_count": null,
   "id": "3288f595",
   "metadata": {},
   "outputs": [],
   "source": []
  },
  {
   "cell_type": "code",
   "execution_count": null,
   "id": "04003974",
   "metadata": {},
   "outputs": [],
   "source": []
  },
  {
   "cell_type": "code",
   "execution_count": null,
   "id": "0b1f1636",
   "metadata": {},
   "outputs": [],
   "source": []
  },
  {
   "cell_type": "code",
   "execution_count": null,
   "id": "7b999759",
   "metadata": {},
   "outputs": [],
   "source": []
  }
 ],
 "metadata": {
  "language_info": {
   "name": "python"
  }
 },
 "nbformat": 4,
 "nbformat_minor": 5
}
